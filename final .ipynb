{
 "cells": [
  {
   "cell_type": "markdown",
   "id": "dfe09551",
   "metadata": {},
   "source": [
    "Imports"
   ]
  },
  {
   "cell_type": "code",
   "execution_count": 1,
   "id": "84210c02",
   "metadata": {},
   "outputs": [],
   "source": [
    "from selenium import webdriver\n",
    "from selenium.webdriver.common.keys import Keys\n",
    "\n",
    "import pyaudio\n",
    "import speech_recognition as sr\n",
    "import wave\n",
    "import time\n",
    "import threading\n"
   ]
  },
  {
   "cell_type": "markdown",
   "id": "6e644ec3",
   "metadata": {},
   "source": [
    "configure available audio device"
   ]
  },
  {
   "cell_type": "code",
   "execution_count": null,
   "id": "4e6b2ebd",
   "metadata": {},
   "outputs": [],
   "source": [
    "p = pyaudio.PyAudio()\n",
    "CHUNK = 1024\n",
    "FORMAT = pyaudio.paInt16\n",
    "CHANNELS = 2\n",
    "RATE = 44100\n",
    "RECORD_SECONDS = 2\n",
    "WAVE_OUTPUT_FILENAME = \"output.wav\"\n",
    "for i in range(p.get_device_count()):\n",
    "    print (p.get_device_info_by_index(i))\n",
    "    devices = p.get_device_info_by_index(i)\n",
    "    if devices['name'] == \"Stereo Mix (Realtek High Defini\":\n",
    "        device = p.get_device_info_by_index(i)\n",
    "print(device,devices)"
   ]
  },
  {
   "cell_type": "markdown",
   "id": "07ca905a",
   "metadata": {},
   "source": [
    "Open audio stream"
   ]
  },
  {
   "cell_type": "code",
   "execution_count": 3,
   "id": "0b3472d5",
   "metadata": {},
   "outputs": [],
   "source": [
    "stream = p.open(format = FORMAT,\n",
    "                channels = CHANNELS,\n",
    "                rate = RATE,\n",
    "                input = True,\n",
    "                input_device_index = device['index'],\n",
    "                frames_per_buffer = CHUNK)"
   ]
  },
  {
   "cell_type": "markdown",
   "id": "773d26b9",
   "metadata": {},
   "source": [
    "create webdriver object"
   ]
  },
  {
   "cell_type": "code",
   "execution_count": 4,
   "id": "f4533777",
   "metadata": {},
   "outputs": [],
   "source": [
    "# chrome driver path\n",
    "driver_path = r'./chromedriver'\n",
    "options = webdriver.ChromeOptions()\n",
    "# User data directory path, it is required to attend gmeet using your id\n",
    "options.add_argument(\"user-data-dir=C:\\\\Users\\\\Aakash\\\\AppData\\\\Local\\\\Google\\\\Chrome\\\\User Datatest\")\n",
    "driver = webdriver.Chrome(executable_path=driver_path, options=options)\n",
    "driver.get(\"\") #enter gmeet url here"
   ]
  },
  {
   "cell_type": "markdown",
   "id": "7b0e590f",
   "metadata": {},
   "source": [
    "Make mic/video disabled"
   ]
  },
  {
   "cell_type": "code",
   "execution_count": 5,
   "id": "a0526cc6",
   "metadata": {},
   "outputs": [],
   "source": [
    "# Make mic disabled\n",
    "mic_enabled = driver.find_element_by_class_name('U26fgb.JRY2Pb.mUbCce.kpROve.uJNmj.HNeRed.QmxbVb')\n",
    "mic_enabled.click()\n",
    "# Make video disabled\n",
    "vid_enabled = driver.find_element_by_class_name('U26fgb.JRY2Pb.mUbCce.kpROve.uJNmj.HNeRed.QmxbVb')\n",
    "vid_enabled.click()"
   ]
  },
  {
   "cell_type": "markdown",
   "id": "e63c6de3",
   "metadata": {},
   "source": [
    "Click on \"Ask to Join\" button"
   ]
  },
  {
   "cell_type": "code",
   "execution_count": null,
   "id": "c5dcf329",
   "metadata": {},
   "outputs": [],
   "source": [
    "ask_to_join = driver.find_element_by_class_name('uArJ5e.UQuaGc.Y5sE8d.uyXBBb.xKiqt')\n",
    "ask_to_join.click()\n",
    "print(ask_to_join)"
   ]
  },
  {
   "cell_type": "markdown",
   "id": "0a2c7def",
   "metadata": {},
   "source": [
    "Focus on Message Box"
   ]
  },
  {
   "cell_type": "code",
   "execution_count": 7,
   "id": "167da8ba",
   "metadata": {},
   "outputs": [],
   "source": [
    "msg = driver.find_element_by_class_name('uArJ5e.UQuaGc.kCyAyd.QU4Gid.foXzLb')\n",
    "msg.click()"
   ]
  },
  {
   "cell_type": "markdown",
   "id": "e9599670",
   "metadata": {},
   "source": [
    "Focus on Chat Input"
   ]
  },
  {
   "cell_type": "code",
   "execution_count": null,
   "id": "e722ecb9",
   "metadata": {},
   "outputs": [],
   "source": [
    "chat = driver.find_element_by_class_name('ThdJC.kaAt2.c0XF8e.s7PhZd.sVoT0c.diMUPd.zCU1Sc')\n",
    "chat.click()"
   ]
  },
  {
   "cell_type": "markdown",
   "id": "a4189f45",
   "metadata": {},
   "source": [
    "Main utility to listen for people audio and respond"
   ]
  },
  {
   "cell_type": "code",
   "execution_count": null,
   "id": "1031625d",
   "metadata": {},
   "outputs": [],
   "source": [
    "aud_width = p.get_sample_size(FORMAT)\n",
    "def func1(RATE,CHUNK, RECORD_SECONDS,WAVE_OUTPUT_FILENAME,CHANNELS,FORMAT):\n",
    "    frames = []\n",
    "    for i in range(0, int(RATE / CHUNK * RECORD_SECONDS)):\n",
    "        data = stream.read(CHUNK)\n",
    "        frames.append(data)\n",
    "    wf = wave.open(WAVE_OUTPUT_FILENAME, 'wb')\n",
    "    wf.setnchannels(CHANNELS)\n",
    "    wf.setsampwidth(p.get_sample_size(FORMAT))\n",
    "    wf.setframerate(RATE)\n",
    "    wf.writeframes(b''.join(frames))\n",
    "    wf.close()\n",
    "\n",
    "def func2(WAVE_OUTPUT_FILENAME):\n",
    "    r = sr.Recognizer()\n",
    "    with sr.AudioFile(WAVE_OUTPUT_FILENAME) as source:\n",
    "        # listen for the data (load audio to memory)\n",
    "        audio_data = r.record(source)\n",
    "        # recognize (convert from speech to text)\n",
    "        text = r.recognize_google(audio_data, language = 'en-IN', show_all = True)\n",
    "    try:\n",
    "        print(text['alternative'])\n",
    "        for i in text['alternative']:\n",
    "            if i['transcript'].upper() == \"AAKASH\" or i['transcript'].upper() == \"AKASH\":\n",
    "                print(\"present sir\")\n",
    "                msg_box = driver.find_element_by_class_name('KHxj8b.tL9Q4c')\n",
    "                msg_box.click()\n",
    "                msg_box.clear()\n",
    "                msg_box.send_keys(\"Present Mam\")\n",
    "                send_msg = driver.find_element_by_class_name('uArJ5e.Y5FYJe.cjq2Db.IOMpW.Cs0vCd')\n",
    "                send_msg.click()\n",
    "    except:\n",
    "        print(\"hehe\")\n",
    "        pass\n",
    "while 1:\n",
    "    t1 = threading.Thread(target=func1,args=(RATE,CHUNK, RECORD_SECONDS,WAVE_OUTPUT_FILENAME,CHANNELS,FORMAT,))\n",
    "    t2 = threading.Thread(target=func2,args=(WAVE_OUTPUT_FILENAME,))\n",
    "    t1.start()\n",
    "    t2.start()\n",
    "    t1.join()\n",
    "    t2.join()\n",
    "    print(\"threading loop infinite\")\n",
    "    "
   ]
  }
 ],
 "metadata": {
  "kernelspec": {
   "display_name": "Python 3",
   "language": "python",
   "name": "python3"
  },
  "language_info": {
   "codemirror_mode": {
    "name": "ipython",
    "version": 3
   },
   "file_extension": ".py",
   "mimetype": "text/x-python",
   "name": "python",
   "nbconvert_exporter": "python",
   "pygments_lexer": "ipython3",
   "version": "3.8.10"
  }
 },
 "nbformat": 4,
 "nbformat_minor": 5
}
